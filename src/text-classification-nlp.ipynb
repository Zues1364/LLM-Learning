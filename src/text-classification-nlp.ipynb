{
 "cells": [
  {
   "cell_type": "markdown",
   "metadata": {},
   "source": [
    "## Text Classification - Natural Language Processing\n",
    "\n",
    "Text classification also known as *text tagging* or *text categorization* is the process of categorizing text into organized groups. By using Natural Language Processing (NLP), text classifiers can automatically analyze text and then assign a set of pre-defined tags or categories based on its content.\n",
    "\n",
    "This kernel aims to give  a brief overview of performing text classification using  Support Vector Machines and Random Forest. We will be using a dataset called \"**Economic news article tone and relevance**\" which consists of approximately 8000 news articles, which were tagged as ***relevant*** or ***not relevant*** to the US Economy. Our goal in this kernel is to explore the process of training and testing text classifiers for this dataset."
   ]
  },
  {
   "cell_type": "code",
   "execution_count": 203,
   "metadata": {
    "_cell_guid": "b1076dfc-b9ad-4769-8c92-a6c4dae69d19",
    "_uuid": "8f2839f25d086af736a60e9eeb907d3b93b6e0e5",
    "execution": {
     "iopub.execute_input": "2025-03-06T14:43:57.456869Z",
     "iopub.status.busy": "2025-03-06T14:43:57.456665Z",
     "iopub.status.idle": "2025-03-06T14:43:58.895351Z",
     "shell.execute_reply": "2025-03-06T14:43:58.894569Z",
     "shell.execute_reply.started": "2025-03-06T14:43:57.456847Z"
    },
    "trusted": true
   },
   "outputs": [],
   "source": [
    "import numpy as np\n",
    "import pandas as pd \n",
    "\n",
    "import matplotlib as mpl \n",
    "import matplotlib.cm as cm \n",
    "import matplotlib.pyplot as plt \n",
    "import plotly.graph_objects as go\n",
    "import seaborn as sns\n",
    "\n",
    "from sklearn.feature_extraction.text import CountVectorizer\n",
    "from sklearn.feature_extraction.text import ENGLISH_STOP_WORDS\n",
    "\n",
    "\n",
    "from nltk.stem import WordNetLemmatizer\n",
    "from sklearn.feature_extraction.text import TfidfVectorizer \n",
    "\n",
    "import string\n",
    "import re\n",
    "\n",
    "\n",
    "from sklearn.svm import LinearSVC\n",
    "\n",
    "\n",
    "from sklearn.metrics import accuracy_score\n",
    "import sklearn.metrics as metrics\n",
    "from sklearn.model_selection import train_test_split\n",
    "from sklearn.metrics import confusion_matrix \n",
    "from sklearn.metrics import classification_report\n",
    "from sklearn import metrics\n",
    "\n",
    "from time import time\n",
    "\n",
    "import warnings\n",
    "warnings.filterwarnings(\"ignore\")"
   ]
  },
  {
   "cell_type": "code",
   "execution_count": null,
   "metadata": {
    "_cell_guid": "79c7e3d0-c299-4dcb-8224-4455121ee9b0",
    "_uuid": "d629ff2d2480ee46fbb7e2d37f6b5fab8052498a",
    "execution": {
     "iopub.execute_input": "2025-03-06T14:43:58.898023Z",
     "iopub.status.busy": "2025-03-06T14:43:58.897771Z",
     "iopub.status.idle": "2025-03-06T14:43:59.191351Z",
     "shell.execute_reply": "2025-03-06T14:43:59.190670Z",
     "shell.execute_reply.started": "2025-03-06T14:43:58.897999Z"
    },
    "trusted": true
   },
   "outputs": [],
   "source": [
    "data = pd.read_csv(r'/\\US-Economic-News\\US-Economic-News.csv', encoding='ISO-8859-1')\n",
    "display(data.shape)\n"
   ]
  },
  {
   "cell_type": "code",
   "execution_count": null,
   "metadata": {
    "execution": {
     "iopub.execute_input": "2025-03-06T14:43:59.193761Z",
     "iopub.status.busy": "2025-03-06T14:43:59.193490Z",
     "iopub.status.idle": "2025-03-06T14:43:59.205279Z",
     "shell.execute_reply": "2025-03-06T14:43:59.204542Z",
     "shell.execute_reply.started": "2025-03-06T14:43:59.193735Z"
    },
    "trusted": true
   },
   "outputs": [],
   "source": [
    "data[\"relevance\"].value_counts()"
   ]
  },
  {
   "cell_type": "code",
   "execution_count": null,
   "metadata": {
    "execution": {
     "iopub.execute_input": "2025-03-06T14:43:59.206569Z",
     "iopub.status.busy": "2025-03-06T14:43:59.206360Z",
     "iopub.status.idle": "2025-03-06T14:43:59.225820Z",
     "shell.execute_reply": "2025-03-06T14:43:59.224977Z",
     "shell.execute_reply.started": "2025-03-06T14:43:59.206540Z"
    },
    "trusted": true
   },
   "outputs": [],
   "source": [
    "data = data[data.relevance != \"not sure\"]\n",
    "data.shape"
   ]
  },
  {
   "cell_type": "code",
   "execution_count": null,
   "metadata": {
    "execution": {
     "iopub.execute_input": "2025-03-06T14:43:59.227269Z",
     "iopub.status.busy": "2025-03-06T14:43:59.226952Z",
     "iopub.status.idle": "2025-03-06T14:43:59.249332Z",
     "shell.execute_reply": "2025-03-06T14:43:59.248719Z",
     "shell.execute_reply.started": "2025-03-06T14:43:59.227244Z"
    },
    "trusted": true
   },
   "outputs": [],
   "source": [
    "data[\"relevance\"].value_counts()/data.shape[0] "
   ]
  },
  {
   "cell_type": "code",
   "execution_count": null,
   "metadata": {
    "execution": {
     "iopub.execute_input": "2025-03-06T14:43:59.250592Z",
     "iopub.status.busy": "2025-03-06T14:43:59.250363Z",
     "iopub.status.idle": "2025-03-06T14:43:59.401530Z",
     "shell.execute_reply": "2025-03-06T14:43:59.400621Z",
     "shell.execute_reply.started": "2025-03-06T14:43:59.250569Z"
    },
    "trusted": true
   },
   "outputs": [],
   "source": [
    "fig = go.Figure([go.Bar(x=data['relevance'].value_counts().index, y=data['relevance'].value_counts().tolist())])\n",
    "fig.update_layout(\n",
    "    title=\"Values in each Sentiment\",\n",
    "    xaxis_title=\"Sentiment\",\n",
    "    yaxis_title=\"Values\")\n",
    "fig.show()"
   ]
  },
  {
   "cell_type": "markdown",
   "metadata": {},
   "source": [
    "## Text Pre-processing"
   ]
  },
  {
   "cell_type": "code",
   "execution_count": null,
   "metadata": {
    "execution": {
     "iopub.execute_input": "2025-03-06T14:43:59.402531Z",
     "iopub.status.busy": "2025-03-06T14:43:59.402333Z",
     "iopub.status.idle": "2025-03-06T14:43:59.414031Z",
     "shell.execute_reply": "2025-03-06T14:43:59.413383Z",
     "shell.execute_reply.started": "2025-03-06T14:43:59.402511Z"
    },
    "trusted": true
   },
   "outputs": [],
   "source": [
    "data['relevance'] = data.relevance.map({'yes':1, 'no':0}) # relevant is 1, not-relevant is 0 \n",
    "data = data[[\"text\",\"relevance\"]] # taking text input and output variable as relevance\n",
    "data = data[:1000]\n",
    "data.shape"
   ]
  },
  {
   "cell_type": "code",
   "execution_count": null,
   "metadata": {
    "execution": {
     "iopub.execute_input": "2025-03-06T14:43:59.415493Z",
     "iopub.status.busy": "2025-03-06T14:43:59.415253Z",
     "iopub.status.idle": "2025-03-06T14:43:59.430309Z",
     "shell.execute_reply": "2025-03-06T14:43:59.429698Z",
     "shell.execute_reply.started": "2025-03-06T14:43:59.415470Z"
    },
    "trusted": true
   },
   "outputs": [],
   "source": [
    "data.head()"
   ]
  },
  {
   "cell_type": "code",
   "execution_count": null,
   "metadata": {
    "execution": {
     "iopub.execute_input": "2025-03-06T14:43:59.431601Z",
     "iopub.status.busy": "2025-03-06T14:43:59.431372Z",
     "iopub.status.idle": "2025-03-06T14:43:59.438475Z",
     "shell.execute_reply": "2025-03-06T14:43:59.437730Z",
     "shell.execute_reply.started": "2025-03-06T14:43:59.431579Z"
    },
    "trusted": true
   },
   "outputs": [],
   "source": [
    "data['text'][0]"
   ]
  },
  {
   "cell_type": "markdown",
   "metadata": {},
   "source": [
    "### Text Cleaning"
   ]
  },
  {
   "cell_type": "code",
   "execution_count": null,
   "metadata": {
    "execution": {
     "iopub.execute_input": "2025-03-06T14:43:59.439928Z",
     "iopub.status.busy": "2025-03-06T14:43:59.439588Z",
     "iopub.status.idle": "2025-03-06T14:44:02.390175Z",
     "shell.execute_reply": "2025-03-06T14:44:02.389403Z",
     "shell.execute_reply.started": "2025-03-06T14:43:59.439892Z"
    },
    "trusted": true
   },
   "outputs": [],
   "source": [
    "import spacy\n",
    "nlp = spacy.load('en_core_web_sm')\n",
    "import nltk\n",
    "nltk.download('wordnet')\n",
    "stopwords = ENGLISH_STOP_WORDS\n",
    "lemmatizer = WordNetLemmatizer()\n",
    "\n",
    "def clean(doc):\n",
    "    text_no_namedentities = []\n",
    "    document = nlp(doc)\n",
    "    ents = [e.text for e in document.ents]\n",
    "    for item in document:\n",
    "        if item.text in ents:\n",
    "            pass\n",
    "        else:\n",
    "            text_no_namedentities.append(item.text)\n",
    "    doc = (\" \".join(text_no_namedentities))\n",
    "\n",
    "    doc = doc.lower().strip()\n",
    "    doc = doc.replace(\"</br>\", \" \") \n",
    "    doc = doc.replace(\"-\", \" \") \n",
    "    doc = \"\".join([char for char in doc if char not in string.punctuation and not char.isdigit()])\n",
    "    doc = \" \".join([token for token in doc.split() if token not in stopwords])    \n",
    "    doc = \"\".join([lemmatizer.lemmatize(word) for word in doc])\n",
    "    return doc"
   ]
  },
  {
   "cell_type": "code",
   "execution_count": null,
   "metadata": {
    "execution": {
     "iopub.execute_input": "2025-03-06T14:44:02.391432Z",
     "iopub.status.busy": "2025-03-06T14:44:02.391222Z",
     "iopub.status.idle": "2025-03-06T14:44:03.962482Z",
     "shell.execute_reply": "2025-03-06T14:44:03.961695Z",
     "shell.execute_reply.started": "2025-03-06T14:44:02.391411Z"
    },
    "trusted": true
   },
   "outputs": [],
   "source": [
    "clean(data['text'][0])"
   ]
  },
  {
   "cell_type": "code",
   "execution_count": null,
   "metadata": {
    "execution": {
     "iopub.execute_input": "2025-03-06T14:44:03.963687Z",
     "iopub.status.busy": "2025-03-06T14:44:03.963448Z",
     "iopub.status.idle": "2025-03-06T14:44:41.996481Z",
     "shell.execute_reply": "2025-03-06T14:44:41.995824Z",
     "shell.execute_reply.started": "2025-03-06T14:44:03.963657Z"
    },
    "trusted": true
   },
   "outputs": [],
   "source": [
    "data['text'] = data['text'].apply(clean)\n",
    "data.head()"
   ]
  },
  {
   "cell_type": "code",
   "execution_count": 215,
   "metadata": {
    "execution": {
     "iopub.execute_input": "2025-03-06T14:44:41.997691Z",
     "iopub.status.busy": "2025-03-06T14:44:41.997454Z",
     "iopub.status.idle": "2025-03-06T14:44:42.251676Z",
     "shell.execute_reply": "2025-03-06T14:44:42.250857Z",
     "shell.execute_reply.started": "2025-03-06T14:44:41.997665Z"
    },
    "trusted": true
   },
   "outputs": [],
   "source": [
    "docs = list(data['text'])\n",
    "tfidf_vectorizer = TfidfVectorizer(use_idf=True, max_features = 20000) \n",
    "tfidf_vectorizer_vectors = tfidf_vectorizer.fit_transform(docs)\n",
    "docs = tfidf_vectorizer_vectors.toarray()"
   ]
  },
  {
   "cell_type": "code",
   "execution_count": null,
   "metadata": {
    "execution": {
     "iopub.execute_input": "2025-03-06T14:44:42.253295Z",
     "iopub.status.busy": "2025-03-06T14:44:42.252959Z",
     "iopub.status.idle": "2025-03-06T14:44:42.257745Z",
     "shell.execute_reply": "2025-03-06T14:44:42.256927Z",
     "shell.execute_reply.started": "2025-03-06T14:44:42.253264Z"
    },
    "trusted": true
   },
   "outputs": [],
   "source": [
    "X = docs \n",
    "y = data['relevance']\n",
    "print(X.shape, y.shape)"
   ]
  },
  {
   "cell_type": "code",
   "execution_count": null,
   "metadata": {
    "execution": {
     "iopub.execute_input": "2025-03-06T14:44:42.259530Z",
     "iopub.status.busy": "2025-03-06T14:44:42.259184Z",
     "iopub.status.idle": "2025-03-06T14:44:42.279488Z",
     "shell.execute_reply": "2025-03-06T14:44:42.278758Z",
     "shell.execute_reply.started": "2025-03-06T14:44:42.259494Z"
    },
    "trusted": true
   },
   "outputs": [],
   "source": [
    "fig = go.Figure([go.Bar(x=y.value_counts().index, y=y.value_counts().tolist())])\n",
    "fig.update_layout(\n",
    "    title=\"Values in each Sentiment\",\n",
    "    xaxis_title=\"Sentiment\",\n",
    "    yaxis_title=\"Values\")\n",
    "fig.show()"
   ]
  },
  {
   "cell_type": "markdown",
   "metadata": {},
   "source": [
    "### Train-Test Split"
   ]
  },
  {
   "cell_type": "code",
   "execution_count": null,
   "metadata": {
    "execution": {
     "iopub.execute_input": "2025-03-06T14:44:42.280803Z",
     "iopub.status.busy": "2025-03-06T14:44:42.280537Z",
     "iopub.status.idle": "2025-03-06T14:44:42.325743Z",
     "shell.execute_reply": "2025-03-06T14:44:42.324819Z",
     "shell.execute_reply.started": "2025-03-06T14:44:42.280781Z"
    },
    "trusted": true
   },
   "outputs": [],
   "source": [
    "SEED=123\n",
    "X_train,X_test,y_train,y_test=train_test_split(X, y, test_size=0.2, random_state=SEED, stratify=y)\n",
    "print(X_train.shape, y_train.shape)\n",
    "print(X_test.shape, y_test.shape)"
   ]
  },
  {
   "cell_type": "markdown",
   "metadata": {},
   "source": [
    "## Support Vector Machines"
   ]
  },
  {
   "cell_type": "code",
   "execution_count": null,
   "metadata": {
    "execution": {
     "iopub.execute_input": "2025-03-06T14:44:43.867597Z",
     "iopub.status.busy": "2025-03-06T14:44:43.867272Z",
     "iopub.status.idle": "2025-03-06T14:44:43.945134Z",
     "shell.execute_reply": "2025-03-06T14:44:43.944283Z",
     "shell.execute_reply.started": "2025-03-06T14:44:43.867564Z"
    },
    "trusted": true
   },
   "outputs": [],
   "source": [
    "svc =  LinearSVC(class_weight='balanced') \n",
    "%time svc.fit(X_train, y_train)\n",
    "\n",
    "y_pred_train = svc.predict(X_train)\n",
    "y_pred_test = svc.predict(X_test)\n",
    "print(\"\\nTraining Accuracy score:\",accuracy_score(y_train, y_pred_train))\n",
    "print(\"Testing Accuracy score:\",accuracy_score(y_test, y_pred_test))"
   ]
  },
  {
   "cell_type": "code",
   "execution_count": null,
   "metadata": {
    "execution": {
     "iopub.execute_input": "2025-03-06T14:44:43.946572Z",
     "iopub.status.busy": "2025-03-06T14:44:43.946253Z",
     "iopub.status.idle": "2025-03-06T14:44:44.075000Z",
     "shell.execute_reply": "2025-03-06T14:44:44.074193Z",
     "shell.execute_reply.started": "2025-03-06T14:44:43.946546Z"
    },
    "trusted": true
   },
   "outputs": [],
   "source": [
    "cm = confusion_matrix(y_test, y_pred_test)\n",
    "# print('Confusion matrix\\n', cm)\n",
    "\n",
    "cm_matrix = pd.DataFrame(data=cm, columns=['Actual Positive', 'Actual Negative'], \n",
    "                        index=['Predict Positive', 'Predict Negative'])\n",
    "sns.heatmap(cm_matrix, annot=True, fmt='d', cmap='YlGnBu')\n",
    "plt.show()"
   ]
  },
  {
   "cell_type": "code",
   "execution_count": null,
   "metadata": {
    "execution": {
     "iopub.execute_input": "2025-03-06T14:44:44.076508Z",
     "iopub.status.busy": "2025-03-06T14:44:44.076244Z",
     "iopub.status.idle": "2025-03-06T14:44:44.086249Z",
     "shell.execute_reply": "2025-03-06T14:44:44.085383Z",
     "shell.execute_reply.started": "2025-03-06T14:44:44.076480Z"
    },
    "trusted": true
   },
   "outputs": [],
   "source": [
    "print(classification_report(y_test, y_pred_test, target_names=['not relevant', 'relevant']))"
   ]
  },
  {
   "cell_type": "code",
   "execution_count": null,
   "metadata": {
    "execution": {
     "iopub.execute_input": "2025-03-06T14:44:44.087484Z",
     "iopub.status.busy": "2025-03-06T14:44:44.087229Z",
     "iopub.status.idle": "2025-03-06T14:44:44.233243Z",
     "shell.execute_reply": "2025-03-06T14:44:44.232415Z",
     "shell.execute_reply.started": "2025-03-06T14:44:44.087459Z"
    },
    "trusted": true
   },
   "outputs": [],
   "source": [
    "probs = svc._predict_proba_lr(X_test)\n",
    "preds = probs[:,1]\n",
    "fpr, tpr, threshold = metrics.roc_curve(y_test, preds)\n",
    "roc_auc = metrics.auc(fpr, tpr)\n",
    "\n",
    "plt.title('Receiver Operating Characteristic - SVM')\n",
    "plt.plot(fpr, tpr, 'b', label = 'AUC = %0.2f' % roc_auc)\n",
    "plt.legend(loc = 'lower right')\n",
    "plt.plot([0, 1], [0, 1],'r--')\n",
    "plt.xlim([0, 1])\n",
    "plt.ylim([0, 1])\n",
    "plt.ylabel('True Positive Rate')\n",
    "plt.xlabel('False Positive Rate')\n",
    "plt.show()"
   ]
  },
  {
   "cell_type": "markdown",
   "metadata": {},
   "source": [
    "## Random Forest Classifier"
   ]
  },
  {
   "cell_type": "code",
   "execution_count": null,
   "metadata": {
    "execution": {
     "iopub.execute_input": "2025-03-06T14:44:44.234820Z",
     "iopub.status.busy": "2025-03-06T14:44:44.234519Z",
     "iopub.status.idle": "2025-03-06T14:44:45.251493Z",
     "shell.execute_reply": "2025-03-06T14:44:45.250742Z",
     "shell.execute_reply.started": "2025-03-06T14:44:44.234794Z"
    },
    "trusted": true
   },
   "outputs": [],
   "source": [
    "from sklearn.ensemble import RandomForestClassifier\n",
    "\n",
    "\n",
    "\n",
    "rf_model = RandomForestClassifier(n_estimators=100,class_weight='balanced', random_state=SEED)\n",
    "\n",
    "\n",
    "%time rf_model.fit(X_train, y_train)\n",
    "\n",
    "\n",
    "y_pred_train_rf = rf_model.predict(X_train)\n",
    "y_pred_test_rf = rf_model.predict(X_test)\n",
    "\n",
    "\n",
    "print(\"Training Accuracy score:\", accuracy_score(y_train, y_pred_train_rf))\n",
    "print(\"Testing Accuracy score:\", accuracy_score(y_test, y_pred_test_rf))\n"
   ]
  },
  {
   "cell_type": "code",
   "execution_count": null,
   "metadata": {},
   "outputs": [],
   "source": [
    "print(classification_report(y_test, y_pred_test_rf, target_names=['not relevant', 'relevant']))"
   ]
  },
  {
   "cell_type": "code",
   "execution_count": null,
   "metadata": {
    "execution": {
     "iopub.execute_input": "2025-03-06T14:44:45.253313Z",
     "iopub.status.busy": "2025-03-06T14:44:45.252981Z",
     "iopub.status.idle": "2025-03-06T14:44:45.381350Z",
     "shell.execute_reply": "2025-03-06T14:44:45.380691Z",
     "shell.execute_reply.started": "2025-03-06T14:44:45.253278Z"
    },
    "trusted": true
   },
   "outputs": [],
   "source": [
    "cm = confusion_matrix(y_test, y_pred_test_rf)\n",
    "# print('Confusion matrix\\n', cm)\n",
    "\n",
    "cm_matrix = pd.DataFrame(data=cm, columns=['Actual Positive', 'Actual Negative'], \n",
    "                        index=['Predict Positive', 'Predict Negative'])\n",
    "sns.heatmap(cm_matrix, annot=True, fmt='d', cmap='YlGnBu')\n",
    "plt.show()"
   ]
  },
  {
   "cell_type": "code",
   "execution_count": null,
   "metadata": {},
   "outputs": [],
   "source": [
    "rf_probs = rf_model.predict_proba(X_test)[:,1]\n",
    "fpr_rf, tpr_rf, _ = metrics.roc_curve(y_test, rf_probs)\n",
    "roc_auc_rf = metrics.auc(fpr_rf, tpr_rf)\n",
    "\n",
    "plt.title('Receiver Operating Characteristic - Random Forest')\n",
    "plt.plot(fpr_rf, tpr_rf, 'b', label = 'AUC = %0.2f' % roc_auc_rf)\n",
    "plt.legend(loc = 'lower right')\n",
    "plt.plot([0, 1], [0, 1],'r--')\n",
    "plt.xlim([0, 1])\n",
    "plt.ylim([0, 1])\n",
    "plt.ylabel('True Positive Rate')\n",
    "plt.xlabel('False Positive Rate')\n",
    "plt.show()"
   ]
  },
  {
   "cell_type": "markdown",
   "metadata": {},
   "source": [
    "## BERT Classifier"
   ]
  },
  {
   "cell_type": "code",
   "execution_count": 292,
   "metadata": {},
   "outputs": [
    {
     "name": "stderr",
     "output_type": "stream",
     "text": [
      "Some weights of BertForSequenceClassification were not initialized from the model checkpoint at bert-base-uncased and are newly initialized: ['classifier.bias', 'classifier.weight']\n",
      "You should probably TRAIN this model on a down-stream task to be able to use it for predictions and inference.\n",
      "Device set to use cpu\n"
     ]
    }
   ],
   "source": [
    "X_train,X_test,y_train,y_test = train_test_split(\n",
    "    data['text'], \n",
    "    y, \n",
    "    test_size=0.2, \n",
    "    random_state=SEED, \n",
    "    stratify=y\n",
    ")\n",
    "\n",
    "\n",
    "from transformers import pipeline\n",
    "\n",
    "bert_classifier = pipeline(\"text-classification\", model=\"bert-base-uncased\", tokenizer=\"bert-base-uncased\")\n",
    "predictions = bert_classifier(X_test.tolist(), truncation=True)\n",
    "pred_labels = [0 if pred['label'] == \"yes\" else 1 for pred in predictions]"
   ]
  },
  {
   "cell_type": "code",
   "execution_count": 293,
   "metadata": {},
   "outputs": [
    {
     "name": "stdout",
     "output_type": "stream",
     "text": [
      "              precision    recall  f1-score   support\n",
      "\n",
      "not relevant       0.00      0.00      0.00       151\n",
      "    relevant       0.24      1.00      0.39        49\n",
      "\n",
      "    accuracy                           0.24       200\n",
      "   macro avg       0.12      0.50      0.20       200\n",
      "weighted avg       0.06      0.24      0.10       200\n",
      "\n"
     ]
    }
   ],
   "source": [
    "print(classification_report(y_test, pred_labels, target_names=['not relevant', 'relevant']))"
   ]
  },
  {
   "cell_type": "code",
   "execution_count": 259,
   "metadata": {},
   "outputs": [
    {
     "data": {
      "image/png": "[encoded data removed]",
      "text/plain": [
       "<Figure size 640x480 with 2 Axes>"
      ]
     },
     "metadata": {},
     "output_type": "display_data"
    }
   ],
   "source": [
    "cm = confusion_matrix(y_test, pred_labels)\n",
    "\n",
    "\n",
    "cm_matrix = pd.DataFrame(data=cm, columns=['Actual Positive', 'Actual Negative'], \n",
    "                        index=['Predict Positive', 'Predict Negative'])\n",
    "sns.heatmap(cm_matrix, annot=True, fmt='d', cmap='YlGnBu')\n",
    "plt.show()"
   ]
  }
 ],
 "metadata": {
  "kaggle": {
   "accelerator": "gpu",
   "dataSources": [
    {
     "datasetId": 942410,
     "sourceId": 1709958,
     "sourceType": "datasetVersion"
    }
   ],
   "dockerImageVersionId": 30034,
   "isGpuEnabled": true,
   "isInternetEnabled": true,
   "language": "python",
   "sourceType": "notebook"
  },
  "kernelspec": {
   "display_name": "materials-sp22-main",
   "language": "python",
   "name": "python3"
  },
  "language_info": {
   "codemirror_mode": {
    "name": "ipython",
    "version": 3
   },
   "file_extension": ".py",
   "mimetype": "text/x-python",
   "name": "python",
   "nbconvert_exporter": "python",
   "pygments_lexer": "ipython3",
   "version": "3.11.11"
  }
 },
 "nbformat": 4,
 "nbformat_minor": 4
}
